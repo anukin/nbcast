{
 "metadata": {
  "name": "notebook casting"
 },
 "nbformat": 3,
 "nbformat_minor": 0,
 "worksheets": [
  {
   "cells": [
    {
     "cell_type": "markdown",
     "metadata": {},
     "source": [
      "<h2>Working with lists</h2><video height=\"180\" width=\"300\" id=\"ourvideo\" controls><source src=\"/static/media/lists.mp4\"><source src=\"/static/media/lists.ogv\"></video><a href=\"#\" onclick=\"resetCells();\">Reset</a>"
     ]
    }
   ],
   "metadata": {}
  }
 ]
}
